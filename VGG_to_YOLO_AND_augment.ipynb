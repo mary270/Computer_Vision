{
  "nbformat": 4,
  "nbformat_minor": 0,
  "metadata": {
    "colab": {
      "provenance": [],
      "authorship_tag": "ABX9TyOO0CkrQlL0/FmkHTN3IwC5",
      "include_colab_link": true
    },
    "kernelspec": {
      "name": "python3",
      "display_name": "Python 3"
    },
    "language_info": {
      "name": "python"
    }
  },
  "cells": [
    {
      "cell_type": "markdown",
      "metadata": {
        "id": "view-in-github",
        "colab_type": "text"
      },
      "source": [
        "<a href=\"https://colab.research.google.com/github/mary270/Computer_Vision/blob/main/VGG_to_YOLO_AND_augment.ipynb\" target=\"_parent\"><img src=\"https://colab.research.google.com/assets/colab-badge.svg\" alt=\"Open In Colab\"/></a>"
      ]
    },
    {
      "cell_type": "markdown",
      "source": [
        "Task3- Convert VGG Via Annotation file into YOLO Format plus augment images using noise and changing brightness"
      ],
      "metadata": {
        "id": "VoyxhkKp9DPQ"
      }
    },
    {
      "cell_type": "code",
      "source": [
        "import json\n",
        "\n",
        "# Define the class label (0 since there are no objects to detect)\n",
        "class_label = 0\n",
        "\n",
        "# Load the JSON file\n",
        "with open('/content/cat_dog_bright&noise_json.json', 'r') as f:\n",
        "    data = json.load(f)\n",
        "\n",
        "# Loop through each image and generate the YOLO format string\n",
        "for img_data in data.values():\n",
        "    # Extract the image filename and size\n",
        "    filename = img_data['filename']\n",
        "    width = img_data['size']\n",
        "    height = img_data['size']\n",
        "\n",
        "    # Generate the YOLO format string\n",
        "    yolo_str = f\"{class_label} {filename} {width} {height}\"\n",
        "    \n",
        "    # Print the YOLO format string\n",
        "    print(yolo_str)"
      ],
      "metadata": {
        "colab": {
          "base_uri": "https://localhost:8080/"
        },
        "id": "vucNqXT137g_",
        "outputId": "4db445b8-19cc-47a2-c3fd-aea90df56f5b"
      },
      "execution_count": 5,
      "outputs": [
        {
          "output_type": "stream",
          "name": "stdout",
          "text": [
            "0 1_0.jpeg 43182 43182\n",
            "0 1_1.jpeg 34775 34775\n",
            "0 1_2.jpeg 36234 36234\n",
            "0 1_3.jpeg 45955 45955\n",
            "0 1_4.jpeg 37735 37735\n",
            "0 2_0.jpeg 5727 5727\n",
            "0 2_1.jpeg 5232 5232\n",
            "0 2_2.jpeg 6153 6153\n",
            "0 2_3.jpeg 5672 5672\n",
            "0 2_4.jpeg 5833 5833\n",
            "0 3_0.jpeg 8465 8465\n",
            "0 3_1.jpeg 9642 9642\n",
            "0 3_2.jpeg 6942 6942\n",
            "0 3_3.jpeg 7963 7963\n",
            "0 3_4.jpeg 8054 8054\n",
            "0 4_0.jpeg 109465 109465\n",
            "0 4_1.jpeg 165046 165046\n",
            "0 4_2.jpeg 97415 97415\n",
            "0 4_3.jpeg 143650 143650\n",
            "0 4_4.jpeg 168565 168565\n",
            "0 5_0.jpeg 42196 42196\n",
            "0 5_1.jpeg 40708 40708\n",
            "0 5_2.jpeg 52935 52935\n",
            "0 5_3.jpeg 52723 52723\n",
            "0 5_4.jpeg 35555 35555\n",
            "0 6_0.jpeg 18201 18201\n",
            "0 6_1.jpeg 18777 18777\n",
            "0 6_2.jpeg 17411 17411\n",
            "0 6_3.jpeg 18480 18480\n",
            "0 6_4.jpeg 17461 17461\n",
            "0 7_0.jpeg 47785 47785\n",
            "0 7_1.jpeg 47991 47991\n",
            "0 7_2.jpeg 33191 33191\n",
            "0 7_3.jpeg 33438 33438\n",
            "0 7_4.jpeg 47805 47805\n",
            "0 1_0.jpeg 88996 88996\n",
            "0 1_1.jpeg 88782 88782\n",
            "0 1_2.jpeg 88855 88855\n",
            "0 1_3.jpeg 88937 88937\n",
            "0 1_4.jpeg 88886 88886\n",
            "0 2_0.jpeg 11225 11225\n",
            "0 2_1.jpeg 11238 11238\n",
            "0 2_2.jpeg 11269 11269\n",
            "0 2_3.jpeg 11307 11307\n",
            "0 2_4.jpeg 11219 11219\n",
            "0 3_0.jpeg 14081 14081\n",
            "0 3_1.jpeg 14084 14084\n",
            "0 3_2.jpeg 13993 13993\n",
            "0 3_3.jpeg 14043 14043\n",
            "0 3_4.jpeg 13985 13985\n",
            "0 4_0.jpeg 372371 372371\n",
            "0 4_1.jpeg 372445 372445\n",
            "0 4_2.jpeg 372444 372444\n",
            "0 4_3.jpeg 372270 372270\n",
            "0 4_4.jpeg 372463 372463\n",
            "0 5_0.jpeg 132845 132845\n",
            "0 5_1.jpeg 132487 132487\n",
            "0 5_2.jpeg 132466 132466\n",
            "0 5_3.jpeg 132808 132808\n",
            "0 5_4.jpeg 132652 132652\n",
            "0 6_0.jpeg 37060 37060\n",
            "0 6_1.jpeg 37006 37006\n",
            "0 6_2.jpeg 37110 37110\n",
            "0 6_3.jpeg 36979 36979\n",
            "0 6_4.jpeg 37029 37029\n",
            "0 7_0.jpeg 117479 117479\n",
            "0 7_1.jpeg 117629 117629\n",
            "0 7_2.jpeg 117675 117675\n",
            "0 7_3.jpeg 117648 117648\n",
            "0 7_4.jpeg 117477 117477\n",
            "0 1.jpeg 45602 45602\n",
            "0 2.jpeg 4669 4669\n",
            "0 3.jpeg 6828 6828\n",
            "0 4.jpeg 198685 198685\n",
            "0 5.jpeg 54509 54509\n",
            "0 6.jpeg 60092 60092\n",
            "0 7.jpeg 394361 394361\n"
          ]
        }
      ]
    }
  ]
}