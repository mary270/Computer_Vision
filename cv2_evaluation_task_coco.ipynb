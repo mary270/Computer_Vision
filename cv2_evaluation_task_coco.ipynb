{
 "cells": [
  {
   "cell_type": "markdown",
   "id": "e87e73d5",
   "metadata": {},
   "source": [
    "### Convert VGG formatted JSON annotations file into COCO format. Additionally we have to augment that images."
   ]
  },
  {
   "cell_type": "markdown",
   "id": "7bfc53c1",
   "metadata": {},
   "source": [
    "#### 1. Fetch and load an image and data from VGG formatted JSON annotations.\n"
   ]
  },
  {
   "cell_type": "code",
   "execution_count": 4,
   "id": "94c800c7",
   "metadata": {},
   "outputs": [],
   "source": [
    "import json\n",
    "from pycocotools import mask as maskUtils\n",
    "from PIL import Image\n",
    "\n",
    "# Load the VIA annotations from the JSON file\n",
    "with open('cat_dog_annotations.json') as f:\n",
    "    data = json.load(f)\n",
    "\n",
    "# Initialize the COCO dataset object\n",
    "dataset = {\n",
    "    \"info\": {},\n",
    "    \"licenses\": [],\n",
    "    \"categories\": [{\"id\": 1, \"name\": \"dog\"}, {\"id\": 2, \"name\": \"cat\"}],\n",
    "    \"images\": [],\n",
    "    \"annotations\": []\n",
    "}\n",
    "\n",
    "# Add images and annotations to the dataset object\n",
    "image_id = 1\n",
    "annotation_id = 1\n",
    "for filename in data['_via_img_metadata']:\n",
    "    # Add the image to the dataset\n",
    "    img = Image.open(\"1.jpeg\")\n",
    "    img = Image.open(\"2.jpeg\")\n",
    "    img = Image.open(\"3.jpeg\")\n",
    "    img = Image.open(\"4.jpeg\")\n",
    "    img = Image.open(\"5.jpeg\")\n",
    "    img = Image.open(\"6.jpeg\")\n",
    "    img = Image.open(\"7.jpeg\")\n",
    "    width, height = img.size\n",
    "    dataset['images'].append({\n",
    "        \"id\": image_id,\n",
    "        \"width\": width,\n",
    "        \"height\": height,\n",
    "        \"file_name\": filename\n",
    "    })\n",
    "\n",
    "    # Add annotations to the dataset\n",
    "    for region in data['_via_img_metadata'][filename]['regions']:\n",
    "        x, y, w, h = region['shape_attributes']['x'], region['shape_attributes']['y'], region['shape_attributes']['width'], region['shape_attributes']['height']\n",
    "        category = region['region_attributes']['class']\n",
    "        if category == {'dog': True}:\n",
    "            category_id = 1\n",
    "        elif category == {'cat': True}:\n",
    "            category_id = 2\n",
    "        else:\n",
    "            continue\n",
    "        area = w * h\n",
    "        bbox = [x, y, w, h]\n",
    "        segmentation = [[x, y, x+w, y, x+w, y+h, x, y+h]]\n",
    "        annotation = {\n",
    "            \"id\": annotation_id,\n",
    "            \"image_id\": image_id,\n",
    "            \"category_id\": category_id,\n",
    "            \"bbox\": bbox,\n",
    "            \"area\": area,\n",
    "            \"segmentation\": segmentation,\n",
    "            \"iscrowd\": 0\n",
    "        }\n",
    "        dataset['annotations'].append(annotation)\n",
    "        annotation_id += 1\n",
    "\n",
    "    image_id += 1\n",
    "\n",
    "# Save the dataset object to a JSON file\n",
    "with open('coco_annotations.json', 'w') as f:\n",
    "    json.dump(dataset, f)\n"
   ]
  },
  {
   "cell_type": "markdown",
   "id": "c97d8de6",
   "metadata": {},
   "source": [
    "#### Resize that image from resize scale percentage 60 to 100 randomly. Thats mean the resulting images will be between 60% to 100% of original size. Do forget to adjust the bounding boxes according to new resized image "
   ]
  },
  {
   "cell_type": "code",
   "execution_count": 3,
   "id": "f23c293b",
   "metadata": {},
   "outputs": [
    {
     "name": "stdout",
     "output_type": "stream",
     "text": [
      "Defaulting to user installation because normal site-packages is not writeable\n",
      "Collecting pycocotools\n",
      "  Downloading pycocotools-2.0.6.tar.gz (24 kB)\n",
      "  Installing build dependencies ... \u001b[?25ldone\n",
      "\u001b[?25h  Getting requirements to build wheel ... \u001b[?25ldone\n",
      "\u001b[?25h  Preparing metadata (pyproject.toml) ... \u001b[?25ldone\n",
      "\u001b[?25hRequirement already satisfied: matplotlib>=2.1.0 in /usr/lib/python3/dist-packages (from pycocotools) (3.5.1)\n",
      "Requirement already satisfied: numpy in /usr/lib/python3/dist-packages (from pycocotools) (1.21.5)\n",
      "Building wheels for collected packages: pycocotools\n",
      "  Building wheel for pycocotools (pyproject.toml) ... \u001b[?25ldone\n",
      "\u001b[?25h  Created wheel for pycocotools: filename=pycocotools-2.0.6-cp310-cp310-linux_x86_64.whl size=333101 sha256=0181f54c1b76baa324924e29364434d7d908acbb1e9eaa01d08a15d9a6736fe7\n",
      "  Stored in directory: /home/maryam2730/.cache/pip/wheels/58/e6/f9/f87c8f8be098b51b616871315318329cae12cdb618f4caac93\n",
      "Successfully built pycocotools\n",
      "Installing collected packages: pycocotools\n",
      "Successfully installed pycocotools-2.0.6\n",
      "Note: you may need to restart the kernel to use updated packages.\n"
     ]
    }
   ],
   "source": [
    "pip install pycocotools"
   ]
  },
  {
   "cell_type": "code",
   "execution_count": null,
   "id": "ec7bb533",
   "metadata": {},
   "outputs": [],
   "source": [
    "import random\n",
    "import os\n",
    "from pycocotools import mask as maskUtils\n",
    "from PIL import Image\n",
    "img_dir=\"/content/output_images\"\n",
    "for filename in os.listdir(img_dir):\n",
    "    if filename.endswith(\".jpeg\"):\n",
    "\n",
    "        # open the image file\n",
    "        img = Image.open(os.path.join(img_dir, filename))\n",
    "         # Generate a random scale factor between 0.6 and 1.0\n",
    "        scale_factor = random.uniform(0.6, 1.0)\n",
    "        # Calculate the new dimensions of the image based on the scale factor\n",
    "        width, height = img.size\n",
    "        new_width = round(width * scale_factor)\n",
    "        new_height = round(height * scale_factor)\n",
    "\n",
    "        # get the original image size\n",
    "        original_size = img.size\n",
    "        \n",
    "\n",
    "        # resize the image to 0.5 times the original size\n",
    "        new_size = tuple(int(x*0.5) for x in original_size)\n",
    "        img_0_5 = img.resize(new_size)\n",
    "\n",
    "        # resize the image to 2 times the original size\n",
    "        new_size = tuple(int(x*2) for x in original_size)\n",
    "        img_2 = img.resize(new_size)\n",
    "\n",
    "        # resize the image to 3 times the original size\n",
    "        new_size = tuple(int(x*3) for x in original_size)\n",
    "        img_3 = img.resize(new_size)\n",
    "\n",
    "        # save the augmented images\n",
    "        img.save(os.path.join(img_dir, filename))\n",
    "        img_0_5.save(os.path.join(img_dir, filename[:-5] + \"_0.5size.jpeg\"))\n",
    "        img_2.save(os.path.join(img_dir, filename[:-5] + \"_2size.jpeg\"))\n",
    "        img_3.save(os.path.join(img_dir, filename[:-5] + \"_3size.jpeg\"))"
   ]
  },
  {
   "cell_type": "markdown",
   "id": "930d9cbb",
   "metadata": {},
   "source": [
    "#### Add random brightness to that resized image."
   ]
  },
  {
   "cell_type": "code",
   "execution_count": 5,
   "id": "b59da4e1",
   "metadata": {},
   "outputs": [],
   "source": [
    "\n",
    "from PIL import Image, ImageEnhance\n",
    "import numpy as np\n",
    "import os\n",
    "\n",
    "\n",
    "# Function to change the brightness of the image\n",
    "def change_brightness(image_path, factor):\n",
    "    with Image.open(image_path) as img:\n",
    "        enhancer = ImageEnhance.Brightness(img)\n",
    "        enhanced_image = enhancer.enhance(factor)\n",
    "        return enhanced_image\n",
    "\n",
    "# Create directories to save the augmented images\n",
    "\n",
    "if not os.path.exists('results'):\n",
    "    os.makedirs('results')\n",
    "    \n",
    "# Augment images with brightness\n",
    "for file in os.listdir('cat_dog_data'):\n",
    "    if file.endswith('.jpeg'):\n",
    "        for i in range(1):\n",
    "            factor = np.random.uniform(0.5, 1.5)\n",
    "            enhanced_image = change_brightness(f'cat_dog_data/{file}', factor)\n",
    "            enhanced_image.save(f'results/{file[:-5]}_{i}.jpeg')"
   ]
  },
  {
   "cell_type": "markdown",
   "id": "3e350b07",
   "metadata": {},
   "source": [
    "#### Rotate that brighter image on an angle n. Don't forget to adjust bounding boxes according to the angle.Save the new annotations on disk."
   ]
  },
  {
   "cell_type": "code",
   "execution_count": 8,
   "id": "4996d0c5",
   "metadata": {},
   "outputs": [],
   "source": [
    "from PIL import Image, ImageEnhance\n",
    "import numpy as np\n",
    "import os\n",
    "\n",
    "# Function to rotate the image\n",
    "def rotate_image(image_path, degrees):\n",
    "    with Image.open(image_path) as img:\n",
    "        rotated_image = img.rotate(degrees)\n",
    "        return rotated_image\n",
    "# Create directories to save the augmented images\n",
    "if not os.path.exists('Results_angle'):\n",
    "    os.makedirs('Results_angle')\n",
    "# Augment images with rotation\n",
    "for file in os.listdir('results'):\n",
    "    if file.endswith('.jpeg'):\n",
    "        for i in range(72):\n",
    "            degrees = i * 5\n",
    "            degrees  = degrees + 5\n",
    "            \n",
    "            rotated_image = rotate_image(f'results/{file}', degrees)\n",
    "            rotated_image.save(f'Results_angle/{file[:-5]}_{degrees}.jpeg')"
   ]
  }
 ],
 "metadata": {
  "kernelspec": {
   "display_name": "Python 3 (ipykernel)",
   "language": "python",
   "name": "python3"
  },
  "language_info": {
   "codemirror_mode": {
    "name": "ipython",
    "version": 3
   },
   "file_extension": ".py",
   "mimetype": "text/x-python",
   "name": "python",
   "nbconvert_exporter": "python",
   "pygments_lexer": "ipython3",
   "version": "3.10.6"
  }
 },
 "nbformat": 4,
 "nbformat_minor": 5
}
