{
  "nbformat": 4,
  "nbformat_minor": 0,
  "metadata": {
    "colab": {
      "provenance": [],
      "authorship_tag": "ABX9TyORgB05mYJQtazwEfgKLkCc",
      "include_colab_link": true
    },
    "kernelspec": {
      "name": "python3",
      "display_name": "Python 3"
    },
    "language_info": {
      "name": "python"
    }
  },
  "cells": [
    {
      "cell_type": "markdown",
      "metadata": {
        "id": "view-in-github",
        "colab_type": "text"
      },
      "source": [
        "<a href=\"https://colab.research.google.com/github/mary270/Computer_Vision/blob/main/shoe_boots_sandals.ipynb\" target=\"_parent\"><img src=\"https://colab.research.google.com/assets/colab-badge.svg\" alt=\"Open In Colab\"/></a>"
      ]
    },
    {
      "cell_type": "code",
      "execution_count": 6,
      "metadata": {
        "id": "hCkUi4c0MmAB"
      },
      "outputs": [],
      "source": [
        "import os\n",
        "import zipfile\n",
        "\n",
        "with zipfile.ZipFile('/content/shoe_boot_sanda_2.zip', 'r') as zip_ref:\n",
        "    zip_ref.extractall('images')\n",
        "\n",
        "image_files = [file for file in os.listdir('images') if file.endswith('.jpg')]\n"
      ]
    },
    {
      "cell_type": "code",
      "source": [
        "import cv2\n",
        "\n",
        "model_path = '/content/frozen_inference_graph.pb'\n",
        "\n",
        "model = cv2.dnn.readNetFromTensorflow(model_path)\n"
      ],
      "metadata": {
        "id": "dH_EjFCVSKPo"
      },
      "execution_count": null,
      "outputs": []
    },
    {
      "cell_type": "code",
      "source": [
        "def detect_objects(image_path):\n",
        "    image = cv2.imread(image_path)\n",
        "    (h, w) = image.shape[:2]\n",
        "\n",
        "    blob = cv2.dnn.blobFromImage(image, swapRB=True, crop=False)\n",
        "    model.setInput(blob)\n",
        "    detections = model.forward()\n",
        "\n",
        "    for i in range(detections.shape[2]):\n",
        "        confidence = detections[0, 0, i, 2]\n",
        "\n",
        "        if confidence > 0.5:\n",
        "            class_id = int(detections[0, 0, i, 1])\n",
        "\n",
        "            if class_id == 1:\n",
        "                label = 'boots'\n",
        "            elif class_id == 2:\n",
        "                label = 'sandals'\n",
        "            elif class_id == 3:\n",
        "                label = 'shoes'\n",
        "            else:\n",
        "                continue\n",
        "\n",
        "            box = detections[0, 0, i, 3:7] * np.array([w, h, w, h])\n",
        "            (startX, startY, endX, endY) = box.astype('int')\n",
        "\n",
        "            crop_img = image[startY:endY, startX:endX]\n",
        "            cv2.imwrite(f'{label}/{os.path.basename(image_path)}', crop_img)\n"
      ],
      "metadata": {
        "id": "ntZaJzH_MoIN"
      },
      "execution_count": 9,
      "outputs": []
    },
    {
      "cell_type": "code",
      "source": [
        "import os\n",
        "\n",
        "for file in image_files:\n",
        "    detect_objects(f'images/{file}')\n"
      ],
      "metadata": {
        "id": "MqXnv5M4MoKi"
      },
      "execution_count": 10,
      "outputs": []
    },
    {
      "cell_type": "code",
      "source": [
        "for label in ['boots', 'sandals', 'shoes']:\n",
        "    os.makedirs(label, exist_ok=True)\n",
        "\n",
        "for file in os.listdir():\n",
        "    if file.endswith('.jpg'):\n",
        "        os.rename(file, f'{label}/{file}')\n"
      ],
      "metadata": {
        "id": "EeJUOAlPMoNv"
      },
      "execution_count": 11,
      "outputs": []
    }
  ]
}