{
  "nbformat": 4,
  "nbformat_minor": 0,
  "metadata": {
    "colab": {
      "provenance": [],
      "authorship_tag": "ABX9TyMaSRd3TwVWPmMZl1q1iCua",
      "include_colab_link": true
    },
    "kernelspec": {
      "name": "python3",
      "display_name": "Python 3"
    },
    "language_info": {
      "name": "python"
    }
  },
  "cells": [
    {
      "cell_type": "markdown",
      "metadata": {
        "id": "view-in-github",
        "colab_type": "text"
      },
      "source": [
        "<a href=\"https://colab.research.google.com/github/mary270/Computer_Vision/blob/main/resizeaugmentation.ipynb\" target=\"_parent\"><img src=\"https://colab.research.google.com/assets/colab-badge.svg\" alt=\"Open In Colab\"/></a>"
      ]
    },
    {
      "cell_type": "markdown",
      "source": [
        "Task4- Convert VGG Via Annotation file into YOLO Format plus augment images for resizing"
      ],
      "metadata": {
        "id": "ufIEJswq94xj"
      }
    },
    {
      "cell_type": "code",
      "source": [
        "import json\n",
        "\n",
        "# Define the class label (0 since there are no objects to detect)\n",
        "class_label = 0\n",
        "\n",
        "# Load the JSON file\n",
        "with open('/content/resize_data_json.json', 'r') as f:\n",
        "    data = json.load(f)\n",
        "\n",
        "# Loop through each image and generate the YOLO format string\n",
        "for img_data in data.values():\n",
        "    # Extract the image filename and size\n",
        "    filename = img_data['filename']\n",
        "    width = img_data['size']\n",
        "    height = img_data['size']\n",
        "\n",
        "    # Generate the YOLO format string\n",
        "    yolo_str = f\"{class_label} {filename} {width} {height}\"\n",
        "    \n",
        "    # Print the YOLO format string\n",
        "    print(yolo_str)"
      ],
      "metadata": {
        "colab": {
          "base_uri": "https://localhost:8080/"
        },
        "id": "ZRD_2wgb9mXN",
        "outputId": "8edd7387-49d3-45e1-b236-5ee3f0b45998"
      },
      "execution_count": 1,
      "outputs": [
        {
          "output_type": "stream",
          "name": "stdout",
          "text": [
            "0 2.jpeg 10459 10459\n",
            "0 2_0size.jpeg 5356 5356\n",
            "0 2_2size.jpeg 31688 31688\n",
            "0 2_3size.jpeg 64143 64143\n",
            "0 4.jpeg 297963 297963\n",
            "0 4_0size.jpeg 119261 119261\n",
            "0 4_2size.jpeg 883611 883611\n",
            "0 4_3size.jpeg 1776767 1776767\n",
            "0 6.jpeg 44234 44234\n",
            "0 6_0size.jpeg 14702 14702\n",
            "0 6_2size.jpeg 107398 107398\n",
            "0 6_3size.jpeg 208736 208736\n"
          ]
        }
      ]
    }
  ]
}