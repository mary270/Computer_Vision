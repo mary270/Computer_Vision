{
  "nbformat": 4,
  "nbformat_minor": 0,
  "metadata": {
    "colab": {
      "provenance": [],
      "authorship_tag": "ABX9TyOYjsOS6BOe/3N8DMcKuECx",
      "include_colab_link": true
    },
    "kernelspec": {
      "name": "python3",
      "display_name": "Python 3"
    },
    "language_info": {
      "name": "python"
    }
  },
  "cells": [
    {
      "cell_type": "markdown",
      "metadata": {
        "id": "view-in-github",
        "colab_type": "text"
      },
      "source": [
        "<a href=\"https://colab.research.google.com/github/mary270/Computer_Vision/blob/main/VGG_to_COCO.ipynb\" target=\"_parent\"><img src=\"https://colab.research.google.com/assets/colab-badge.svg\" alt=\"Open In Colab\"/></a>"
      ]
    },
    {
      "cell_type": "code",
      "execution_count": 1,
      "metadata": {
        "id": "ZSFkF6QLs2_D"
      },
      "outputs": [],
      "source": [
        "import json\n",
        "from pycocotools import mask as maskUtils\n",
        "from PIL import Image\n",
        "\n",
        "# Load the VIA annotations from the JSON file\n",
        "with open('/content/cat_dog_annotations.json') as f:\n",
        "    data = json.load(f)\n",
        "\n",
        "# Initialize the COCO dataset object\n",
        "dataset = {\n",
        "    \"info\": {},\n",
        "    \"licenses\": [],\n",
        "    \"categories\": [{\"id\": 1, \"name\": \"dog\"}, {\"id\": 2, \"name\": \"cat\"}],\n",
        "    \"images\": [],\n",
        "    \"annotations\": []\n",
        "}\n",
        "\n",
        "# Add images and annotations to the dataset object\n",
        "image_id = 1\n",
        "annotation_id = 1\n",
        "for filename in data['_via_img_metadata']:\n",
        "    # Add the image to the dataset\n",
        "    img = Image.open(\"/content/1.jpeg\")\n",
        "    width, height = img.size\n",
        "    dataset['images'].append({\n",
        "        \"id\": image_id,\n",
        "        \"width\": width,\n",
        "        \"height\": height,\n",
        "        \"file_name\": filename\n",
        "    })\n",
        "\n",
        "    # Add annotations to the dataset\n",
        "    for region in data['_via_img_metadata'][filename]['regions']:\n",
        "        x, y, w, h = region['shape_attributes']['x'], region['shape_attributes']['y'], region['shape_attributes']['width'], region['shape_attributes']['height']\n",
        "        category = region['region_attributes']['class']\n",
        "        if category == {'dog': True}:\n",
        "            category_id = 1\n",
        "        elif category == {'cat': True}:\n",
        "            category_id = 2\n",
        "        else:\n",
        "            continue\n",
        "        area = w * h\n",
        "        bbox = [x, y, w, h]\n",
        "        segmentation = [[x, y, x+w, y, x+w, y+h, x, y+h]]\n",
        "        annotation = {\n",
        "            \"id\": annotation_id,\n",
        "            \"image_id\": image_id,\n",
        "            \"category_id\": category_id,\n",
        "            \"bbox\": bbox,\n",
        "            \"area\": area,\n",
        "            \"segmentation\": segmentation,\n",
        "            \"iscrowd\": 0\n",
        "        }\n",
        "        dataset['annotations'].append(annotation)\n",
        "        annotation_id += 1\n",
        "\n",
        "    image_id += 1\n",
        "\n",
        "# Save the dataset object to a JSON file\n",
        "with open('coco_annotations.json', 'w') as f:\n",
        "    json.dump(dataset, f)\n"
      ]
    }
  ]
}