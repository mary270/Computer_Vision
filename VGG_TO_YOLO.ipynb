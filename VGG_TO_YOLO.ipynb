{
  "nbformat": 4,
  "nbformat_minor": 0,
  "metadata": {
    "colab": {
      "provenance": [],
      "authorship_tag": "ABX9TyMPMisuevOrQa/l+EiHByPJ",
      "include_colab_link": true
    },
    "kernelspec": {
      "name": "python3",
      "display_name": "Python 3"
    },
    "language_info": {
      "name": "python"
    }
  },
  "cells": [
    {
      "cell_type": "markdown",
      "metadata": {
        "id": "view-in-github",
        "colab_type": "text"
      },
      "source": [
        "<a href=\"https://colab.research.google.com/github/mary270/Computer_Vision/blob/main/VGG_TO_YOLO.ipynb\" target=\"_parent\"><img src=\"https://colab.research.google.com/assets/colab-badge.svg\" alt=\"Open In Colab\"/></a>"
      ]
    },
    {
      "cell_type": "code",
      "execution_count": 6,
      "metadata": {
        "id": "4TiewxY6Ik_D"
      },
      "outputs": [],
      "source": [
        "import json\n",
        "\n",
        "# Set the class mapping dictionary\n",
        "class_mapping = {\"dog\": 0, \"cat\": 1}\n",
        "\n",
        "# Set the output file paths\n",
        "json_file_path = \"/content/cat_dog_annotations.json\"\n",
        "output_file_path = \"output.txt\"\n",
        "\n",
        "# Load the JSON file\n",
        "with open(json_file_path, \"r\") as f:\n",
        "    data = json.load(f)\n",
        "\n",
        "# Loop over the images in the JSON\n",
        "for image_id, (image_filename, image_data) in enumerate(data[\"_via_img_metadata\"].items()):\n",
        "    # Get the image width and height\n",
        "    #default_height=[]\n",
        "    #default_width=[]\n",
        "    width = image_data.get(\"width\", 400)\n",
        "    height = image_data.get(\"height\", 700)\n",
        "\n",
        "    # Open the output file for this image\n",
        "    output_filename = f\"{image_id}.txt\"\n",
        "    with open(output_filename, \"w\") as output_file:\n",
        "        # Loop over the regions in the image\n",
        "        for region in image_data[\"regions\"]:\n",
        "            # Get the class name and convert it to an integer\n",
        "            class_name = list(region[\"region_attributes\"][\"class\"].keys())[0]\n",
        "            class_id = class_mapping[class_name]\n",
        "\n",
        "            # Get the bounding box coordinates and convert them to YOLO format\n",
        "            x = region[\"shape_attributes\"][\"x\"]\n",
        "            y = region[\"shape_attributes\"][\"y\"]\n",
        "            w = region[\"shape_attributes\"][\"width\"]\n",
        "            h = region[\"shape_attributes\"][\"height\"]\n",
        "            x_center = x + w / 2\n",
        "            y_center = y + h / 2\n",
        "            x_center /= width\n",
        "            y_center /= height\n",
        "            w /= width\n",
        "            h /= height\n",
        "\n",
        "            # Write the object detection annotation to the output file\n",
        "            output_file.write(f\"{class_id} {x_center} {y_center} {w} {h}\\n\")\n"
      ]
    }
  ]
}